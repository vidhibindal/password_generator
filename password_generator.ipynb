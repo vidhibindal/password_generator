{
  "nbformat": 4,
  "nbformat_minor": 0,
  "metadata": {
    "colab": {
      "name": "password_generator.ipynb",
      "provenance": [],
      "collapsed_sections": [],
      "authorship_tag": "ABX9TyMHctwkOnG1oU7D0K4ZzhfC",
      "include_colab_link": true
    },
    "kernelspec": {
      "name": "python3",
      "display_name": "Python 3"
    },
    "language_info": {
      "name": "python"
    }
  },
  "cells": [
    {
      "cell_type": "markdown",
      "metadata": {
        "id": "view-in-github",
        "colab_type": "text"
      },
      "source": [
        "<a href=\"https://colab.research.google.com/github/vidhibindal/password_generator/blob/main/password_generator.ipynb\" target=\"_parent\"><img src=\"https://colab.research.google.com/assets/colab-badge.svg\" alt=\"Open In Colab\"/></a>"
      ]
    },
    {
      "cell_type": "code",
      "metadata": {
        "colab": {
          "base_uri": "https://localhost:8080/"
        },
        "id": "lwI84f4rGqAn",
        "outputId": "1e6d8a3e-dc01-49e6-e785-7edf3e578194"
      },
      "source": [
        "import array\n",
        "import random\n",
        "\n",
        "max_len = 14\n",
        "\n",
        "digits = ['0', '1', '2', '3', '4', '5', '6', '7', '8', '9']\n",
        "lowercase = ['a', 'b', 'c', 'd', 'e', 'f', 'g', 'h', 'i', 'j', 'k', 'l', 'm', 'n', 'o', 'p', 'q', 'r', 's', 't', 'u', 'v', 'w', 'x', 'y', 'z']\n",
        "uppercase = ['A', 'B', 'C', 'D', 'E', 'F', 'G', 'H', 'I', 'J', 'K', 'L', 'M', 'N', 'O', 'P', 'Q', 'R', 'S', 'T', 'U', 'V', 'W', 'X', 'Y', 'Z']\n",
        "symbols = ['@', '#', '$', '%', '=', ':', '?', '.', '/', '|', '~', '>', '*', '(', ')', '<']\n",
        "\n",
        "combine_list = digits + lowercase + uppercase + symbols\n",
        "\n",
        "rand_digit = random.choice(digits)\n",
        "rand_lower = random.choice(lowercase)\n",
        "rand_upper = random.choice(uppercase)\n",
        "rand_symbol = random.choice(symbols)\n",
        "\n",
        "temp_pass = rand_digit + rand_lower + rand_upper + rand_symbol\n",
        "\n",
        "for x in range(max_len - 4):\n",
        "  temp_pass = temp_pass + random.choice(combine_list)\n",
        "\n",
        "  temp_pass_list = array.array('u', temp_pass)\n",
        "  random.shuffle(temp_pass_list)\n",
        "\n",
        "password = \" \"\n",
        "\n",
        "for x in temp_pass_list:\n",
        "         password = password + x\n",
        "\n",
        "print(password)\n"
      ],
      "execution_count": null,
      "outputs": [
        {
          "output_type": "stream",
          "text": [
            " X3he9=SoElCu?p\n"
          ],
          "name": "stdout"
        }
      ]
    }
  ]
}